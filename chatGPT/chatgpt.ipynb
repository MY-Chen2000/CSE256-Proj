{
 "cells": [
  {
   "cell_type": "code",
   "execution_count": 1,
   "metadata": {},
   "outputs": [],
   "source": [
    "import pandas as pd\n",
    "import numpy as np"
   ]
  },
  {
   "cell_type": "code",
   "execution_count": 9,
   "metadata": {},
   "outputs": [],
   "source": [
    "df = pd.read_csv('../Data/Main/test.tsv', delimiter='\\t')"
   ]
  },
  {
   "cell_type": "code",
   "execution_count": 61,
   "metadata": {},
   "outputs": [],
   "source": [
    "question = df['Complete Question'].to_list()\n",
    "answer = df['Answer Key'].to_list()"
   ]
  },
  {
   "cell_type": "code",
   "execution_count": 18,
   "metadata": {},
   "outputs": [],
   "source": [
    "import openai\n",
    "openai.api_key = 'xxx'"
   ]
  },
  {
   "cell_type": "code",
   "execution_count": 45,
   "metadata": {},
   "outputs": [],
   "source": [
    "import time\n",
    "res = []\n",
    "for i, q in enumerate(question):\n",
    "  completion = openai.ChatCompletion.create(\n",
    "    model = \"gpt-3.5-turbo\",\n",
    "    temperature = 0.8,\n",
    "    max_tokens = 2000,\n",
    "    messages = [\n",
    "      {\"role\": \"system\", \"content\": \"You are a student and only need to answer without explanation\"},\n",
    "      {\"role\": \"user\", \"content\": q}\n",
    "    ]\n",
    "  )\n",
    "  res.append(completion.choices[0].message.content)\n",
    "  if i%10 == 0:\n",
    "    time.sleep(10)\n"
   ]
  },
  {
   "cell_type": "code",
   "execution_count": 59,
   "metadata": {},
   "outputs": [],
   "source": [
    "# after mannually process the results to align the answer with A, B, C, D\n",
    "f = open('result.txt', 'r')\n",
    "Lines = f.readlines()\n",
    "\n",
    "pred = []\n",
    "for l in Lines:\n",
    "    ch = l.strip()[2]\n",
    "    pred.append(ch)"
   ]
  },
  {
   "cell_type": "code",
   "execution_count": 60,
   "metadata": {},
   "outputs": [],
   "source": [
    "counts = 0\n",
    "total = 500\n",
    "wrong = []\n",
    "for i in range(len(pred)):\n",
    "    if pred[i] == answers[i]:\n",
    "        counts += 1\n",
    "    else:\n",
    "        wrong.append((i, pred[i], answers[i]))\n",
    "accuracy = counts/total"
   ]
  },
  {
   "cell_type": "code",
   "execution_count": 61,
   "metadata": {},
   "outputs": [
    {
     "data": {
      "text/plain": [
       "0.74"
      ]
     },
     "execution_count": 61,
     "metadata": {},
     "output_type": "execute_result"
    }
   ],
   "source": [
    "accuracy"
   ]
  },
  {
   "cell_type": "code",
   "execution_count": 62,
   "metadata": {},
   "outputs": [
    {
     "data": {
      "text/plain": [
       "[(2, 'A', 'C'),\n",
       " (8, 'B', 'D'),\n",
       " (12, 'D', 'C'),\n",
       " (19, 'C', 'B'),\n",
       " (28, 'A', 'D'),\n",
       " (29, 'C', 'B'),\n",
       " (32, 'D', 'B'),\n",
       " (38, 'A', 'D'),\n",
       " (50, 'D', 'A'),\n",
       " (51, 'C', 'D'),\n",
       " (54, 'A', 'C'),\n",
       " (66, 'D', 'A'),\n",
       " (71, 'D', 'C'),\n",
       " (74, 'D', 'C'),\n",
       " (75, 'A', 'C'),\n",
       " (89, 'B', 'A'),\n",
       " (98, 'B', 'A'),\n",
       " (99, 'D', 'C'),\n",
       " (103, 'B', 'D'),\n",
       " (108, 'C', 'D'),\n",
       " (109, 'A', 'C'),\n",
       " (116, 'A', 'D'),\n",
       " (117, 'A', 'D'),\n",
       " (125, 'B', 'A'),\n",
       " (128, 'D', 'B'),\n",
       " (133, 'D', 'A'),\n",
       " (134, 'A', 'D'),\n",
       " (137, 'A', 'B'),\n",
       " (138, 'A', 'B'),\n",
       " (140, 'A', 'C'),\n",
       " (141, 'D', 'A'),\n",
       " (146, 'C', 'A'),\n",
       " (148, 'D', 'A'),\n",
       " (154, 'B', 'A'),\n",
       " (166, 'U', 'A'),\n",
       " (168, 'A', 'C'),\n",
       " (174, 'A', 'B'),\n",
       " (178, 'A', 'D'),\n",
       " (191, 'A', 'B'),\n",
       " (192, 'A', 'D'),\n",
       " (194, 'A', 'C'),\n",
       " (195, 'D', 'B'),\n",
       " (200, 'C', 'D'),\n",
       " (203, 'D', 'A'),\n",
       " (211, 'D', 'B'),\n",
       " (213, 'A', 'B'),\n",
       " (216, 'B', 'C'),\n",
       " (232, 'D', 'A'),\n",
       " (235, 'D', 'B'),\n",
       " (237, 'D', 'A'),\n",
       " (250, 'B', 'D'),\n",
       " (256, 'A', 'D'),\n",
       " (261, 'C', 'B'),\n",
       " (262, 'A', 'B'),\n",
       " (270, 'D', 'C'),\n",
       " (277, 'D', 'C'),\n",
       " (282, 'A', 'C'),\n",
       " (285, 'D', 'A'),\n",
       " (293, 'C', 'A'),\n",
       " (294, 'B', 'A'),\n",
       " (296, 'A', 'D'),\n",
       " (297, 'D', 'C'),\n",
       " (299, 'C', 'A'),\n",
       " (300, 'A', 'B'),\n",
       " (303, 'D', 'A'),\n",
       " (304, 'A', 'C'),\n",
       " (305, 'C', 'A'),\n",
       " (306, 'A', 'C'),\n",
       " (307, 'C', 'B'),\n",
       " (308, 'B', 'C'),\n",
       " (309, 'C', 'B'),\n",
       " (311, 'D', 'A'),\n",
       " (312, 'A', 'B'),\n",
       " (313, 'B', 'D'),\n",
       " (314, 'D', 'B'),\n",
       " (315, 'A', 'C'),\n",
       " (317, 'C', 'B'),\n",
       " (318, 'A', 'B'),\n",
       " (320, 'B', 'A'),\n",
       " (321, 'C', 'D'),\n",
       " (322, 'D', 'B'),\n",
       " (323, 'B', 'C'),\n",
       " (324, 'C', 'D'),\n",
       " (325, 'A', 'C'),\n",
       " (326, 'C', 'A'),\n",
       " (327, 'A', 'D'),\n",
       " (328, 'D', 'C'),\n",
       " (329, 'C', 'D'),\n",
       " (330, 'B', 'A'),\n",
       " (332, 'B', 'D'),\n",
       " (339, 'B', 'A'),\n",
       " (340, 'D', 'C'),\n",
       " (341, 'C', 'B'),\n",
       " (353, 'B', 'A'),\n",
       " (354, 'D', 'B'),\n",
       " (355, 'D', 'A'),\n",
       " (356, 'D', 'A'),\n",
       " (358, 'A', 'B'),\n",
       " (366, 'A', 'B'),\n",
       " (367, 'D', 'C'),\n",
       " (369, 'A', 'B'),\n",
       " (377, 'A', 'C'),\n",
       " (388, 'A', 'C'),\n",
       " (392, 'D', 'B'),\n",
       " (407, 'D', 'B'),\n",
       " (409, 'A', 'D'),\n",
       " (411, 'D', 'B'),\n",
       " (412, 'C', 'A'),\n",
       " (416, 'D', 'A'),\n",
       " (417, 'B', 'C'),\n",
       " (419, 'D', 'C'),\n",
       " (420, 'D', 'C'),\n",
       " (422, 'D', 'C'),\n",
       " (424, 'D', 'A'),\n",
       " (430, 'C', 'A'),\n",
       " (431, 'A', 'B'),\n",
       " (434, 'A', 'B'),\n",
       " (435, 'A', 'C'),\n",
       " (438, 'D', 'A'),\n",
       " (440, 'A', 'C'),\n",
       " (443, 'A', 'D'),\n",
       " (445, 'D', 'B'),\n",
       " (452, 'D', 'A'),\n",
       " (458, 'D', 'C'),\n",
       " (470, 'C', 'B'),\n",
       " (475, 'B', 'D'),\n",
       " (479, 'D', 'A'),\n",
       " (487, 'B', 'D'),\n",
       " (491, 'B', 'A'),\n",
       " (497, 'D', 'C')]"
      ]
     },
     "execution_count": 62,
     "metadata": {},
     "output_type": "execute_result"
    }
   ],
   "source": [
    "wrong"
   ]
  },
  {
   "cell_type": "code",
   "execution_count": 47,
   "metadata": {},
   "outputs": [],
   "source": [
    "import json\n",
    "\n",
    "with open('../Data/Additional/test_complete.jsonl', 'r') as json_file:\n",
    "    json_list = list(json_file)\n",
    "\n",
    "questions = []\n",
    "answers = []\n",
    "\n",
    "for json_str in json_list:\n",
    "    result = json.loads(json_str)\n",
    "    question = result['fact1'] + '.'\n",
    "    question += ' ' + result['question']['stem']\n",
    "    for choice in result['question']['choices']:\n",
    "        question += \" (\" + choice['label'] + \")\" + \" \" + choice['text']\n",
    "    questions.append(question)\n",
    "    answers.append(result['answerKey'])"
   ]
  },
  {
   "cell_type": "code",
   "execution_count": 48,
   "metadata": {},
   "outputs": [],
   "source": [
    "import time\n",
    "import openai\n",
    "openai.api_key = 'xxx'"
   ]
  },
  {
   "cell_type": "code",
   "execution_count": 49,
   "metadata": {},
   "outputs": [],
   "source": [
    "res = []"
   ]
  },
  {
   "cell_type": "code",
   "execution_count": 52,
   "metadata": {},
   "outputs": [],
   "source": [
    "for i, q in enumerate(questions[150:]):\n",
    "  completion = openai.ChatCompletion.create(\n",
    "    model = \"gpt-3.5-turbo\",\n",
    "    temperature = 0.8,\n",
    "    max_tokens = 2000,\n",
    "    messages = [\n",
    "      {\"role\": \"system\", \"content\": \"You are a student and only need to answer A, B, C or D without explanation\"},\n",
    "      {\"role\": \"user\", \"content\": q}\n",
    "    ]\n",
    "  )\n",
    "  res.append(completion.choices[0].message.content)\n",
    "  if i%10 == 9:\n",
    "    time.sleep(5)"
   ]
  },
  {
   "cell_type": "code",
   "execution_count": 55,
   "metadata": {},
   "outputs": [],
   "source": [
    "pred = []\n",
    "for a in res:\n",
    "    if a[0] not in ['A', 'B', 'C', 'D']:\n",
    "        pred.append(a[1])\n",
    "    else:\n",
    "        pred.append(a[0])"
   ]
  },
  {
   "cell_type": "code",
   "execution_count": 56,
   "metadata": {},
   "outputs": [],
   "source": [
    "counts = 0\n",
    "total = 500\n",
    "wrong = []\n",
    "for i in range(len(pred)):\n",
    "    if pred[i] == answers[i]:\n",
    "        counts += 1\n",
    "    else:\n",
    "        wrong.append((i, pred[i], answers[i]))\n",
    "accuracy = counts/total"
   ]
  }
 ],
 "metadata": {
  "kernelspec": {
   "display_name": "cs256",
   "language": "python",
   "name": "python3"
  },
  "language_info": {
   "codemirror_mode": {
    "name": "ipython",
    "version": 3
   },
   "file_extension": ".py",
   "mimetype": "text/x-python",
   "name": "python",
   "nbconvert_exporter": "python",
   "pygments_lexer": "ipython3",
   "version": "3.11.3"
  },
  "orig_nbformat": 4
 },
 "nbformat": 4,
 "nbformat_minor": 2
}
